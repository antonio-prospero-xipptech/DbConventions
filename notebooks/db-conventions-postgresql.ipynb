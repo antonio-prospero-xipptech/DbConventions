{
    "metadata": {
        "kernelspec": {
            "name": "SQL",
            "display_name": "SQL",
            "language": "sql"
        },
        "language_info": {
            "name": "sql",
            "version": ""
        }
    },
    "nbformat_minor": 2,
    "nbformat": 4,
    "cells": [
        {
            "cell_type": "markdown",
            "source": [
                "# Convenções de nomenclatura para objetos PostgreSQL\n",
                "\n",
                "<span style=\"color: rgb(36, 41, 47); font-family: -apple-system, BlinkMacSystemFont, &quot;Segoe UI&quot;, &quot;Noto Sans&quot;, Helvetica, Arial, sans-serif, &quot;Apple Color Emoji&quot;, &quot;Segoe UI Emoji&quot;; font-size: 16px; background-color: rgb(255, 255, 255);\"><br>Os nomes das tabelas e colunas devem estar</span> <span style=\"box-sizing: border-box; font-weight: var(--base-text-weight-semibold, 600); color: rgb(36, 41, 47); font-family: -apple-system, BlinkMacSystemFont, &quot;Segoe UI&quot;, &quot;Noto Sans&quot;, Helvetica, Arial, sans-serif, &quot;Apple Color Emoji&quot;, &quot;Segoe UI Emoji&quot;; font-size: 16px; background-color: rgb(255, 255, 255);\">minúsculas</span> <span style=\"color: rgb(36, 41, 47); font-family: -apple-system, BlinkMacSystemFont, &quot;Segoe UI&quot;, &quot;Noto Sans&quot;, Helvetica, Arial, sans-serif, &quot;Apple Color Emoji&quot;, &quot;Segoe UI Emoji&quot;; font-size: 16px; background-color: rgb(255, 255, 255);\">e as palavras devem ser separadas por</span> <span style=\"box-sizing: border-box; font-weight: var(--base-text-weight-semibold, 600); color: rgb(36, 41, 47); font-family: -apple-system, BlinkMacSystemFont, &quot;Segoe UI&quot;, &quot;Noto Sans&quot;, Helvetica, Arial, sans-serif, &quot;Apple Color Emoji&quot;, &quot;Segoe UI Emoji&quot;; font-size: 16px; background-color: rgb(255, 255, 255);\">underscore</span><span style=\"color: rgb(36, 41, 47); font-family: -apple-system, BlinkMacSystemFont, &quot;Segoe UI&quot;, &quot;Noto Sans&quot;, Helvetica, Arial, sans-serif, &quot;Apple Color Emoji&quot;, &quot;Segoe UI Emoji&quot;; font-size: 16px; background-color: rgb(255, 255, 255);\">, seguindo o padrão</span> [snake case](https://en.wikipedia.org/wiki/Snake_case)<span style=\"color: rgb(36, 41, 47); font-family: -apple-system, BlinkMacSystemFont, &quot;Segoe UI&quot;, &quot;Noto Sans&quot;, Helvetica, Arial, sans-serif, &quot;Apple Color Emoji&quot;, &quot;Segoe UI Emoji&quot;; font-size: 16px; background-color: rgb(255, 255, 255);\">.</span> \n",
                "\n",
                "<span style=\"color: rgb(36, 41, 47); font-family: -apple-system, BlinkMacSystemFont, &quot;Segoe UI&quot;, &quot;Noto Sans&quot;, Helvetica, Arial, sans-serif, &quot;Apple Color Emoji&quot;, &quot;Segoe UI Emoji&quot;; font-size: 16px; background-color: rgb(255, 255, 255);\">E todos os termos devem estar em inglês, exceto alguns termos que não há tradução apropriada para o&nbsp;</span>        <span style=\"box-sizing: border-box; font-weight: var(--base-text-weight-semibold, 600); color: rgb(36, 41, 47); font-family: -apple-system, BlinkMacSystemFont, &quot;Segoe UI&quot;, &quot;Noto Sans&quot;, Helvetica, Arial, sans-serif, &quot;Apple Color Emoji&quot;, &quot;Segoe UI Emoji&quot;; font-size: 16px; background-color: rgb(255, 255, 255);\">inglês</span><span style=\"color: rgb(36, 41, 47); font-family: -apple-system, BlinkMacSystemFont, &quot;Segoe UI&quot;, &quot;Noto Sans&quot;, Helvetica, Arial, sans-serif, &quot;Apple Color Emoji&quot;, &quot;Segoe UI Emoji&quot;; font-size: 16px; background-color: rgb(255, 255, 255);\">.&nbsp;</span>        \n",
                "\n",
                "<span style=\"color: rgb(36, 41, 47); font-family: -apple-system, BlinkMacSystemFont, &quot;Segoe UI&quot;, &quot;Noto Sans&quot;, Helvetica, Arial, sans-serif, &quot;Apple Color Emoji&quot;, &quot;Segoe UI Emoji&quot;; font-size: 16px; background-color: rgb(255, 255, 255);\">Sempre prefira nomes descritivos, evitando ao máximo contrações.</span>\n",
                "\n",
                "<span style=\"color: rgb(32, 33, 34); font-family: sans-serif;\"><b>Estilo</b>: Snake case</span>  <span style=\"color: rgb(32, 33, 34); font-family: sans-serif;\">(stylized as</span> <span style=\"color: rgb(32, 33, 34); font-family: sans-serif;\"><b>snake_case</b></span><span style=\"color: rgb(32, 33, 34); font-family: sans-serif;\">).</span>\n",
                "\n",
                "**Tamanho máximo** para nomenclatura de objetos em **PostgreSQL é de 63 caracteres**<span style=\"color: rgb(32, 33, 34); font-family: sans-serif;\"><b>.</b></span> \n",
                "\n",
                "**Palavras completas**, evitar abreviações. Os nomes dos objetos devem ser palavras completas. \n",
                "\n",
                "**Evitar palavras reservadas** do [PostgreSQL](https://www.postgresql.org/docs/15/sql-keywords-appendix.html) e [MSSQL](https://learn.microsoft.com/en-us/sql/t-sql/language-elements/reserved-keywords-transact-sql?redirectedfrom=MSDN&view=sql-server-ver16)\n",
                "\n",
                "**<mark>Highlights</mark>**:\n",
                "\n",
                "- <span data-contrast=\"none\" xml:lang=\"EN-US\" lang=\"EN-US\" class=\"TextRun SCXW172331588 BCX0\" style=\"font-size: 10.5pt; margin: 0px; padding: 0px; user-select: text; -webkit-user-drag: none; -webkit-tap-highlight-color: transparent; color: rgb(36, 41, 47); line-height: 19px; font-family: Calibri, Calibri_EmbeddedFont, Calibri_MSFontService, sans-serif; font-variant-ligatures: none !important;\"><span class=\"NormalTextRun SpellingErrorV2Themed SCXW172331588 BCX0\" style=\"margin: 0px; padding: 0px; user-select: text; -webkit-user-drag: none; -webkit-tap-highlight-color: transparent; background-repeat: repeat-x; background-position: left bottom; background-image: var(--urlSpellingErrorV2, url(&quot;data:image/svg+xml;base64,PD94bWwgdmVyc2lvbj0iMS4wIiBlbmNvZGluZz0iVVRGLTgiPz4KPHN2ZyB3aWR0aD0iNXB4IiBoZWlnaHQ9IjRweCIgdmlld0JveD0iMCAwIDUgNCIgdmVyc2lvbj0iMS4xIiB4bWxucz0iaHR0cDovL3d3dy53My5vcmcvMjAwMC9zdmciIHhtbG5zOnhsaW5rPSJodHRwOi8vd3d3LnczLm9yZy8xOTk5L3hsaW5rIj4KICAgIDwhLS0gR2VuZXJhdG9yOiBTa2V0Y2ggNTYuMiAoODE2NzIpIC0gaHR0cHM6Ly9za2V0Y2guY29tIC0tPgogICAgPHRpdGxlPnNwZWxsaW5nX3NxdWlnZ2xlPC90aXRsZT4KICAgIDxkZXNjPkNyZWF0ZWQgd2l0aCBTa2V0Y2guPC9kZXNjPgogICAgPGcgaWQ9IkZsYWdzIiBzdHJva2U9Im5vbmUiIHN0cm9rZS13aWR0aD0iMSIgZmlsbD0ibm9uZSIgZmlsbC1ydWxlPSJldmVub2RkIj4KICAgICAgICA8ZyB0cmFuc2Zvcm09InRyYW5zbGF0ZSgtMTAxMC4wMDAwMDAsIC0yOTYuMDAwMDAwKSIgaWQ9InNwZWxsaW5nX3NxdWlnZ2xlIj4KICAgICAgICAgICAgPGcgdHJhbnNmb3JtPSJ0cmFuc2xhdGUoMTAxMC4wMDAwMDAsIDI5Ni4wMDAwMDApIj4KICAgICAgICAgICAgICAgIDxwYXRoIGQ9Ik0wLDMgQzEuMjUsMyAxLjI1LDEgMi41LDEgQzMuNzUsMSAzLjc1LDMgNSwzIiBpZD0iUGF0aCIgc3Ryb2tlPSIjRUIwMDAwIiBzdHJva2Utd2lkdGg9IjEiPjwvcGF0aD4KICAgICAgICAgICAgICAgIDxyZWN0IGlkPSJSZWN0YW5nbGUiIHg9IjAiIHk9IjAiIHdpZHRoPSI1IiBoZWlnaHQ9IjQiPjwvcmVjdD4KICAgICAgICAgICAgPC9nPgogICAgICAgIDwvZz4KICAgIDwvZz4KPC9zdmc+&quot;)); border-bottom: 1px solid transparent;\">Padrão</span><span class=\"NormalTextRun SCXW172331588 BCX0\" style=\"margin: 0px; padding: 0px; user-select: text; -webkit-user-drag: none; -webkit-tap-highlight-color: transparent;\"> de campos e objetos<b>&nbsp;</b></span><span class=\"NormalTextRun SpellingErrorV2Themed SCXW172331588 BCX0\" style=\"margin: 0px; padding: 0px; user-select: text; -webkit-user-drag: none; -webkit-tap-highlight-color: transparent; background-repeat: repeat-x; background-position: left bottom; background-image: var(--urlSpellingErrorV2, url(&quot;data:image/svg+xml;base64,PD94bWwgdmVyc2lvbj0iMS4wIiBlbmNvZGluZz0iVVRGLTgiPz4KPHN2ZyB3aWR0aD0iNXB4IiBoZWlnaHQ9IjRweCIgdmlld0JveD0iMCAwIDUgNCIgdmVyc2lvbj0iMS4xIiB4bWxucz0iaHR0cDovL3d3dy53My5vcmcvMjAwMC9zdmciIHhtbG5zOnhsaW5rPSJodHRwOi8vd3d3LnczLm9yZy8xOTk5L3hsaW5rIj4KICAgIDwhLS0gR2VuZXJhdG9yOiBTa2V0Y2ggNTYuMiAoODE2NzIpIC0gaHR0cHM6Ly9za2V0Y2guY29tIC0tPgogICAgPHRpdGxlPnNwZWxsaW5nX3NxdWlnZ2xlPC90aXRsZT4KICAgIDxkZXNjPkNyZWF0ZWQgd2l0aCBTa2V0Y2guPC9kZXNjPgogICAgPGcgaWQ9IkZsYWdzIiBzdHJva2U9Im5vbmUiIHN0cm9rZS13aWR0aD0iMSIgZmlsbD0ibm9uZSIgZmlsbC1ydWxlPSJldmVub2RkIj4KICAgICAgICA8ZyB0cmFuc2Zvcm09InRyYW5zbGF0ZSgtMTAxMC4wMDAwMDAsIC0yOTYuMDAwMDAwKSIgaWQ9InNwZWxsaW5nX3NxdWlnZ2xlIj4KICAgICAgICAgICAgPGcgdHJhbnNmb3JtPSJ0cmFuc2xhdGUoMTAxMC4wMDAwMDAsIDI5Ni4wMDAwMDApIj4KICAgICAgICAgICAgICAgIDxwYXRoIGQ9Ik0wLDMgQzEuMjUsMyAxLjI1LDEgMi41LDEgQzMuNzUsMSAzLjc1LDMgNSwzIiBpZD0iUGF0aCIgc3Ryb2tlPSIjRUIwMDAwIiBzdHJva2Utd2lkdGg9IjEiPjwvcGF0aD4KICAgICAgICAgICAgICAgIDxyZWN0IGlkPSJSZWN0YW5nbGUiIHg9IjAiIHk9IjAiIHdpZHRoPSI1IiBoZWlnaHQ9IjQiPjwvcmVjdD4KICAgICAgICAgICAgPC9nPgogICAgICAgIDwvZz4KICAgIDwvZz4KPC9zdmc+&quot;)); border-bottom: 1px solid transparent;\"><b>em</b></span><span class=\"NormalTextRun SCXW172331588 BCX0\" style=\"margin: 0px; padding: 0px; user-select: text; -webkit-user-drag: none; -webkit-tap-highlight-color: transparent;\"><b> inglês</b>, exceto quando não há tradução apropriada para o inglês.</span></span> \n",
                "    \n",
                "- <span style=\"color: rgb(32, 33, 34); font-family: sans-serif;\"><b>Lowercase</b>: os identificadores devem ser escritos inteiramente em letras minúsculas. Isso inclui tabelas, views, colunas, procedures, pkeys fkeys e tudo mais.</span>\n",
                "    \n",
                "- <span data-contrast=\"none\" xml:lang=\"EN-US\" lang=\"EN-US\" class=\"TextRun SCXW172331588 BCX0\" style=\"margin: 0px; padding: 0px; user-select: text; -webkit-user-drag: none; -webkit-tap-highlight-color: transparent; color: rgb(36, 41, 47); font-size: 10.5pt; line-height: 19px; font-family: Calibri, Calibri_EmbeddedFont, Calibri_MSFontService, sans-serif; font-variant-ligatures: none !important;\"><span class=\"NormalTextRun SpellingErrorV2Themed SCXW172331588 BCX0\" style=\"margin: 0px; padding: 0px; user-select: text; -webkit-user-drag: none; -webkit-tap-highlight-color: transparent; background-repeat: repeat-x; background-position: left bottom; background-image: var(--urlSpellingErrorV2, url(&quot;data:image/svg+xml;base64,PD94bWwgdmVyc2lvbj0iMS4wIiBlbmNvZGluZz0iVVRGLTgiPz4KPHN2ZyB3aWR0aD0iNXB4IiBoZWlnaHQ9IjRweCIgdmlld0JveD0iMCAwIDUgNCIgdmVyc2lvbj0iMS4xIiB4bWxucz0iaHR0cDovL3d3dy53My5vcmcvMjAwMC9zdmciIHhtbG5zOnhsaW5rPSJodHRwOi8vd3d3LnczLm9yZy8xOTk5L3hsaW5rIj4KICAgIDwhLS0gR2VuZXJhdG9yOiBTa2V0Y2ggNTYuMiAoODE2NzIpIC0gaHR0cHM6Ly9za2V0Y2guY29tIC0tPgogICAgPHRpdGxlPnNwZWxsaW5nX3NxdWlnZ2xlPC90aXRsZT4KICAgIDxkZXNjPkNyZWF0ZWQgd2l0aCBTa2V0Y2guPC9kZXNjPgogICAgPGcgaWQ9IkZsYWdzIiBzdHJva2U9Im5vbmUiIHN0cm9rZS13aWR0aD0iMSIgZmlsbD0ibm9uZSIgZmlsbC1ydWxlPSJldmVub2RkIj4KICAgICAgICA8ZyB0cmFuc2Zvcm09InRyYW5zbGF0ZSgtMTAxMC4wMDAwMDAsIC0yOTYuMDAwMDAwKSIgaWQ9InNwZWxsaW5nX3NxdWlnZ2xlIj4KICAgICAgICAgICAgPGcgdHJhbnNmb3JtPSJ0cmFuc2xhdGUoMTAxMC4wMDAwMDAsIDI5Ni4wMDAwMDApIj4KICAgICAgICAgICAgICAgIDxwYXRoIGQ9Ik0wLDMgQzEuMjUsMyAxLjI1LDEgMi41LDEgQzMuNzUsMSAzLjc1LDMgNSwzIiBpZD0iUGF0aCIgc3Ryb2tlPSIjRUIwMDAwIiBzdHJva2Utd2lkdGg9IjEiPjwvcGF0aD4KICAgICAgICAgICAgICAgIDxyZWN0IGlkPSJSZWN0YW5nbGUiIHg9IjAiIHk9IjAiIHdpZHRoPSI1IiBoZWlnaHQ9IjQiPjwvcmVjdD4KICAgICAgICAgICAgPC9nPgogICAgICAgIDwvZz4KICAgIDwvZz4KPC9zdmc+&quot;)); border-bottom: 1px solid transparent;\"><b>Lower_case_with_underscores</b>: separado</span><span class=\"NormalTextRun SCXW172331588 BCX0\" style=\"margin: 0px; padding: 0px; user-select: text; -webkit-user-drag: none; -webkit-tap-highlight-color: transparent;\"> </span><span class=\"NormalTextRun SpellingErrorV2Themed SCXW172331588 BCX0\" style=\"margin: 0px; padding: 0px; user-select: text; -webkit-user-drag: none; -webkit-tap-highlight-color: transparent; background-repeat: repeat-x; background-position: left bottom; background-image: var(--urlSpellingErrorV2, url(&quot;data:image/svg+xml;base64,PD94bWwgdmVyc2lvbj0iMS4wIiBlbmNvZGluZz0iVVRGLTgiPz4KPHN2ZyB3aWR0aD0iNXB4IiBoZWlnaHQ9IjRweCIgdmlld0JveD0iMCAwIDUgNCIgdmVyc2lvbj0iMS4xIiB4bWxucz0iaHR0cDovL3d3dy53My5vcmcvMjAwMC9zdmciIHhtbG5zOnhsaW5rPSJodHRwOi8vd3d3LnczLm9yZy8xOTk5L3hsaW5rIj4KICAgIDwhLS0gR2VuZXJhdG9yOiBTa2V0Y2ggNTYuMiAoODE2NzIpIC0gaHR0cHM6Ly9za2V0Y2guY29tIC0tPgogICAgPHRpdGxlPnNwZWxsaW5nX3NxdWlnZ2xlPC90aXRsZT4KICAgIDxkZXNjPkNyZWF0ZWQgd2l0aCBTa2V0Y2guPC9kZXNjPgogICAgPGcgaWQ9IkZsYWdzIiBzdHJva2U9Im5vbmUiIHN0cm9rZS13aWR0aD0iMSIgZmlsbD0ibm9uZSIgZmlsbC1ydWxlPSJldmVub2RkIj4KICAgICAgICA8ZyB0cmFuc2Zvcm09InRyYW5zbGF0ZSgtMTAxMC4wMDAwMDAsIC0yOTYuMDAwMDAwKSIgaWQ9InNwZWxsaW5nX3NxdWlnZ2xlIj4KICAgICAgICAgICAgPGcgdHJhbnNmb3JtPSJ0cmFuc2xhdGUoMTAxMC4wMDAwMDAsIDI5Ni4wMDAwMDApIj4KICAgICAgICAgICAgICAgIDxwYXRoIGQ9Ik0wLDMgQzEuMjUsMyAxLjI1LDEgMi41LDEgQzMuNzUsMSAzLjc1LDMgNSwzIiBpZD0iUGF0aCIgc3Ryb2tlPSIjRUIwMDAwIiBzdHJva2Utd2lkdGg9IjEiPjwvcGF0aD4KICAgICAgICAgICAgICAgIDxyZWN0IGlkPSJSZWN0YW5nbGUiIHg9IjAiIHk9IjAiIHdpZHRoPSI1IiBoZWlnaHQ9IjQiPjwvcmVjdD4KICAgICAgICAgICAgPC9nPgogICAgICAgIDwvZz4KICAgIDwvZz4KPC9zdmc+&quot;)); border-bottom: 1px solid transparent;\">por</span><span class=\"NormalTextRun SCXW172331588 BCX0\" style=\"margin: 0px; padding: 0px; user-select: text; -webkit-user-drag: none; -webkit-tap-highlight-color: transparent;\"> underscore (<code class=\"literal\" style=\"box-sizing: border-box; font-family: monospace, monospace; font-size: 14.4px; color: rgb(0, 0, 0); overflow-wrap: break-word; background-color: var(--doccontent-pre-code-bg-color); border-radius: 0.25rem; margin: 0.6rem 0px; font-variant-ligatures: normal; white-space: normal;\">_</code><span style=\"color: rgb(0, 0, 0); font-family: &quot;Open Sans&quot;, sans-serif; font-size: 14.4px; font-variant-ligatures: normal; white-space: normal;\">).</span></span></span>\n",
                "    \n",
                "- <span data-contrast=\"none\" xml:lang=\"EN-US\" lang=\"EN-US\" class=\"TextRun SCXW172331588 BCX0\" style=\"margin: 0px; padding: 0px; user-select: text; -webkit-user-drag: none; -webkit-tap-highlight-color: transparent; color: rgb(36, 41, 47); font-size: 10.5pt; line-height: 19px; font-family: Calibri, Calibri_EmbeddedFont, Calibri_MSFontService, sans-serif; font-variant-ligatures: none !important;\"><span class=\"NormalTextRun SCXW172331588 BCX0\" style=\"margin: 0px; padding: 0px; user-select: text; -webkit-user-drag: none; -webkit-tap-highlight-color: transparent;\"><b>Varchar</b> datatypes <b>sempre&nbsp;</b></span><b><span class=\"NormalTextRun SpellingErrorV2Themed SCXW172331588 BCX0\" style=\"margin: 0px; padding: 0px; user-select: text; -webkit-user-drag: none; -webkit-tap-highlight-color: transparent; background-repeat: repeat-x; background-position: left bottom; background-image: var(--urlSpellingErrorV2, url(&quot;data:image/svg+xml;base64,PD94bWwgdmVyc2lvbj0iMS4wIiBlbmNvZGluZz0iVVRGLTgiPz4KPHN2ZyB3aWR0aD0iNXB4IiBoZWlnaHQ9IjRweCIgdmlld0JveD0iMCAwIDUgNCIgdmVyc2lvbj0iMS4xIiB4bWxucz0iaHR0cDovL3d3dy53My5vcmcvMjAwMC9zdmciIHhtbG5zOnhsaW5rPSJodHRwOi8vd3d3LnczLm9yZy8xOTk5L3hsaW5rIj4KICAgIDwhLS0gR2VuZXJhdG9yOiBTa2V0Y2ggNTYuMiAoODE2NzIpIC0gaHR0cHM6Ly9za2V0Y2guY29tIC0tPgogICAgPHRpdGxlPnNwZWxsaW5nX3NxdWlnZ2xlPC90aXRsZT4KICAgIDxkZXNjPkNyZWF0ZWQgd2l0aCBTa2V0Y2guPC9kZXNjPgogICAgPGcgaWQ9IkZsYWdzIiBzdHJva2U9Im5vbmUiIHN0cm9rZS13aWR0aD0iMSIgZmlsbD0ibm9uZSIgZmlsbC1ydWxlPSJldmVub2RkIj4KICAgICAgICA8ZyB0cmFuc2Zvcm09InRyYW5zbGF0ZSgtMTAxMC4wMDAwMDAsIC0yOTYuMDAwMDAwKSIgaWQ9InNwZWxsaW5nX3NxdWlnZ2xlIj4KICAgICAgICAgICAgPGcgdHJhbnNmb3JtPSJ0cmFuc2xhdGUoMTAxMC4wMDAwMDAsIDI5Ni4wMDAwMDApIj4KICAgICAgICAgICAgICAgIDxwYXRoIGQ9Ik0wLDMgQzEuMjUsMyAxLjI1LDEgMi41LDEgQzMuNzUsMSAzLjc1LDMgNSwzIiBpZD0iUGF0aCIgc3Ryb2tlPSIjRUIwMDAwIiBzdHJva2Utd2lkdGg9IjEiPjwvcGF0aD4KICAgICAgICAgICAgICAgIDxyZWN0IGlkPSJSZWN0YW5nbGUiIHg9IjAiIHk9IjAiIHdpZHRoPSI1IiBoZWlnaHQ9IjQiPjwvcmVjdD4KICAgICAgICAgICAgPC9nPgogICAgICAgIDwvZz4KICAgIDwvZz4KPC9zdmc+&quot;)); border-bottom: 1px solid transparent;\">especificar</span><span class=\"NormalTextRun SCXW172331588 BCX0\" style=\"margin: 0px; padding: 0px; user-select: text; -webkit-user-drag: none; -webkit-tap-highlight-color: transparent;\"> </span><span class=\"NormalTextRun SpellingErrorV2Themed SCXW172331588 BCX0\" style=\"margin: 0px; padding: 0px; user-select: text; -webkit-user-drag: none; -webkit-tap-highlight-color: transparent; background-repeat: repeat-x; background-position: left bottom; background-image: var(--urlSpellingErrorV2, url(&quot;data:image/svg+xml;base64,PD94bWwgdmVyc2lvbj0iMS4wIiBlbmNvZGluZz0iVVRGLTgiPz4KPHN2ZyB3aWR0aD0iNXB4IiBoZWlnaHQ9IjRweCIgdmlld0JveD0iMCAwIDUgNCIgdmVyc2lvbj0iMS4xIiB4bWxucz0iaHR0cDovL3d3dy53My5vcmcvMjAwMC9zdmciIHhtbG5zOnhsaW5rPSJodHRwOi8vd3d3LnczLm9yZy8xOTk5L3hsaW5rIj4KICAgIDwhLS0gR2VuZXJhdG9yOiBTa2V0Y2ggNTYuMiAoODE2NzIpIC0gaHR0cHM6Ly9za2V0Y2guY29tIC0tPgogICAgPHRpdGxlPnNwZWxsaW5nX3NxdWlnZ2xlPC90aXRsZT4KICAgIDxkZXNjPkNyZWF0ZWQgd2l0aCBTa2V0Y2guPC9kZXNjPgogICAgPGcgaWQ9IkZsYWdzIiBzdHJva2U9Im5vbmUiIHN0cm9rZS13aWR0aD0iMSIgZmlsbD0ibm9uZSIgZmlsbC1ydWxlPSJldmVub2RkIj4KICAgICAgICA8ZyB0cmFuc2Zvcm09InRyYW5zbGF0ZSgtMTAxMC4wMDAwMDAsIC0yOTYuMDAwMDAwKSIgaWQ9InNwZWxsaW5nX3NxdWlnZ2xlIj4KICAgICAgICAgICAgPGcgdHJhbnNmb3JtPSJ0cmFuc2xhdGUoMTAxMC4wMDAwMDAsIDI5Ni4wMDAwMDApIj4KICAgICAgICAgICAgICAgIDxwYXRoIGQ9Ik0wLDMgQzEuMjUsMyAxLjI1LDEgMi41LDEgQzMuNzUsMSAzLjc1LDMgNSwzIiBpZD0iUGF0aCIgc3Ryb2tlPSIjRUIwMDAwIiBzdHJva2Utd2lkdGg9IjEiPjwvcGF0aD4KICAgICAgICAgICAgICAgIDxyZWN0IGlkPSJSZWN0YW5nbGUiIHg9IjAiIHk9IjAiIHdpZHRoPSI1IiBoZWlnaHQ9IjQiPjwvcmVjdD4KICAgICAgICAgICAgPC9nPgogICAgICAgIDwvZz4KICAgIDwvZz4KPC9zdmc+&quot;)); border-bottom: 1px solid transparent;\">tamanho</span></b><span class=\"NormalTextRun SCXW172331588 BCX0\" style=\"margin: 0px; padding: 0px; user-select: text; -webkit-user-drag: none; -webkit-tap-highlight-color: transparent;\">:&nbsp;</span></span>         \n",
                "    \n",
                "    - Exemplo <span class=\"NormalTextRun SCXW172331588 BCX0\" style=\"color: rgb(36, 41, 47); font-family: Calibri, Calibri_EmbeddedFont, Calibri_MSFontService, sans-serif; font-size: 10.5pt; font-variant-ligatures: none; margin: 0px; padding: 0px; user-select: text; -webkit-user-drag: none; -webkit-tap-highlight-color: transparent;\">-&gt; </span> <span class=\"NormalTextRun SpellingErrorV2Themed SCXW172331588 BCX0\" style=\"color: rgb(36, 41, 47); font-family: Calibri, Calibri_EmbeddedFont, Calibri_MSFontService, sans-serif; font-size: 10.5pt; font-variant-ligatures: none; margin: 0px; padding: 0px; user-select: text; -webkit-user-drag: none; -webkit-tap-highlight-color: transparent; background-repeat: repeat-x; background-position: left bottom; background-image: var(--urlSpellingErrorV2, url(&quot;data:image/svg+xml;base64,PD94bWwgdmVyc2lvbj0iMS4wIiBlbmNvZGluZz0iVVRGLTgiPz4KPHN2ZyB3aWR0aD0iNXB4IiBoZWlnaHQ9IjRweCIgdmlld0JveD0iMCAwIDUgNCIgdmVyc2lvbj0iMS4xIiB4bWxucz0iaHR0cDovL3d3dy53My5vcmcvMjAwMC9zdmciIHhtbG5zOnhsaW5rPSJodHRwOi8vd3d3LnczLm9yZy8xOTk5L3hsaW5rIj4KICAgIDwhLS0gR2VuZXJhdG9yOiBTa2V0Y2ggNTYuMiAoODE2NzIpIC0gaHR0cHM6Ly9za2V0Y2guY29tIC0tPgogICAgPHRpdGxlPnNwZWxsaW5nX3NxdWlnZ2xlPC90aXRsZT4KICAgIDxkZXNjPkNyZWF0ZWQgd2l0aCBTa2V0Y2guPC9kZXNjPgogICAgPGcgaWQ9IkZsYWdzIiBzdHJva2U9Im5vbmUiIHN0cm9rZS13aWR0aD0iMSIgZmlsbD0ibm9uZSIgZmlsbC1ydWxlPSJldmVub2RkIj4KICAgICAgICA8ZyB0cmFuc2Zvcm09InRyYW5zbGF0ZSgtMTAxMC4wMDAwMDAsIC0yOTYuMDAwMDAwKSIgaWQ9InNwZWxsaW5nX3NxdWlnZ2xlIj4KICAgICAgICAgICAgPGcgdHJhbnNmb3JtPSJ0cmFuc2xhdGUoMTAxMC4wMDAwMDAsIDI5Ni4wMDAwMDApIj4KICAgICAgICAgICAgICAgIDxwYXRoIGQ9Ik0wLDMgQzEuMjUsMyAxLjI1LDEgMi41LDEgQzMuNzUsMSAzLjc1LDMgNSwzIiBpZD0iUGF0aCIgc3Ryb2tlPSIjRUIwMDAwIiBzdHJva2Utd2lkdGg9IjEiPjwvcGF0aD4KICAgICAgICAgICAgICAgIDxyZWN0IGlkPSJSZWN0YW5nbGUiIHg9IjAiIHk9IjAiIHdpZHRoPSI1IiBoZWlnaHQ9IjQiPjwvcmVjdD4KICAgICAgICAgICAgPC9nPgogICAgICAgIDwvZz4KICAgIDwvZz4KPC9zdmc+&quot;)); border-bottom: 1px solid transparent;\">column_name</span> <span class=\"NormalTextRun SCXW172331588 BCX0\" style=\"color: rgb(36, 41, 47); font-family: Calibri, Calibri_EmbeddedFont, Calibri_MSFontService, sans-serif; font-size: 10.5pt; font-variant-ligatures: none; margin: 0px; padding: 0px; user-select: text; -webkit-user-drag: none; -webkit-tap-highlight-color: transparent;\">varchar(n)</span>\n",
                "- Nunca deve incluir espaços em branco nos nomes dos objetos.\n",
                "    \n",
                "- Nunca deve incluir quotes (\") nos nomes dos objetos.\n",
                "    \n",
                "\n",
                "<span style=\"background-color: rgba(127, 127, 127, 0.1);\"><i><b>Todas as convenções abaixo seguem a mesma regra padrão descrita acima.</b></i></span>\n",
                "\n",
                "# Schemas\n",
                "\n",
                "Schema é utilizado para agrupar os objetos de banco de dados  de cada app ou microserviço.  \n",
                "\n",
                "Deve utilizar schemas nas criações dos objetos de cada aplicação ou separação entre módulos.\n",
                "\n",
                "Cada schema deve identificar o módulo de aplicação em questão ou um microserviço que os objetos fazem parte.\n",
                "\n",
                "**Não** utilizar **schema \"public\"** para criação de objetos das aplicações. \n",
                "\n",
                "Exemplo de script criação schema:\n",
                "\n",
                "<span style=\"color: var(--vscode-editor-foreground); font-family: Menlo, Monaco, Consolas, &quot;Droid Sans Mono&quot;, &quot;Courier New&quot;, monospace, &quot;Droid Sans Fallback&quot;; font-size: 12px; background-color: rgba(220, 220, 220, 0.4); white-space: pre-wrap;\">-- SCHEMA: contract</span>\n",
                "\n",
                "```\n",
                "CREATE SCHEMA IF NOT EXISTS contract    AUTHORIZATION rl_ddladmin;\n",
                "GRANT USAGE ON SCHEMA contract TO rl_datareader;\n",
                "GRANT ALL ON SCHEMA contract TO rl_ddladmin;\n",
                "\n",
                "```\n",
                "\n",
                "> ### Schemas Aud\n",
                "> \n",
                "> Schemas audit são schemas que tem as tabelas com o histórico de alterações gerados via triggers sql ou pelo hibernate envers. \n",
                "> \n",
                "> Deve-se adicionar apenas ao final do nome do schema o \"\\_aud\" para indentificar que é um schema de auditoria de um determinado módulo.\n",
                "\n",
                "> > **Ex.:** \n",
                "> > \n",
                "> >  <span style=\"background-color: rgb(255, 255, 254);\">[schema_original]_aud</span>\n",
                "> > \n",
                "> > **Schema original:** contract\n",
                "> > \n",
                "> > **Schema de auditoria**: contract\\_aud\n",
                "\n",
                "```\n",
                "-- SCHEMA AUDITORIA: contract\n",
                "CREATE SCHEMA IF NOT EXISTS contract_aud    AUTHORIZATION rl_ddladmin;\n",
                "GRANT USAGE ON SCHEMA contract_aud TO rl_datareader;\n",
                "GRANT ALL ON SCHEMA contract_aud TO rl_ddladmin;\n",
                "\n",
                "```\n",
                "\n",
                "# Tabelas\n",
                "\n",
                "<span style=\"font-size: 16px;\">Os nomes destes objetos devem estar em</span> <span style=\"font-size: 16px;\"><b>letras minúsculas</b></span> <span style=\"font-size: 16px;\">no&nbsp;<b>singular</b> e em<b> inglês.</b></span>\n",
                "\n",
                "<span style=\"color: rgb(36, 41, 47); font-family: -apple-system, BlinkMacSystemFont, &quot;Segoe UI&quot;, &quot;Noto Sans&quot;, Helvetica, Arial, sans-serif, &quot;Apple Color Emoji&quot;, &quot;Segoe UI Emoji&quot;; font-size: 16px; background-color: rgb(255, 255, 255);\">Sempre prefira nomes descritivos, evitando ao máximo contrações.</span> \n",
                "\n",
                "> > **Ex:**\n",
                "> \n",
                "> > **Ruim**<span style=\"font-size: 16px;\">: users, posts, roles, table_contracts</span>\n",
                "> > \n",
                "> > **Bom**<span style=\"font-size: 16px;\">: user, post, role, contract</span>\n",
                "\n",
                "### **<span style=\"font-size: 16px;\"><br>TABELA AUDITORIA :&nbsp;</span>**    <span style=\"background-color: rgba(127, 127, 127, 0.1); font-size: 16px;\">Auditoria são os tabelas que tem histórico de alterações gerados via triggers sql ou pelo hibernate envers.</span>\n",
                "\n",
                "### <span style=\"font-size: 16px;\">Deve iniciar pelo nome da tabela que tem origem a auditoria e terminar pelas letras \"_aud\".&nbsp;&nbsp;</span>  \n",
                "\n",
                "> > <span style=\"font-size: 16px;\"><b>Ex</b>:</span>\n",
                "> > \n",
                "> > \\[schema\\].\\[<span style=\"font-size: 16px;\">tabela_origem]_aud</span>\n",
                "> > \n",
                "> > <span style=\"font-size: 16px;\">security.user_aud</span>"
            ],
            "metadata": {
                "azdata_cell_guid": "ea81e9aa-653f-4ffa-a7fb-143ce00887d0"
            },
            "attachments": {}
        },
        {
            "cell_type": "markdown",
            "source": [
                "# Views, Procedures, Functions e Triggers\n",
                "\n",
                "<span style=\"font-size: 16px;\">Os nomes destes objetos devem estar em</span> <span style=\"font-size: 16px;\"><b>letras minúsculas</b></span> <span style=\"font-size: 16px;\">no <b>singular</b> e em<b> inglês.</b></span>\n",
                "\n",
                "<span style=\"color: rgb(36, 41, 47); font-family: -apple-system, BlinkMacSystemFont, &quot;Segoe UI&quot;, &quot;Noto Sans&quot;, Helvetica, Arial, sans-serif, &quot;Apple Color Emoji&quot;, &quot;Segoe UI Emoji&quot;; font-size: 16px; background-color: rgb(255, 255, 255);\">Sempre prefira nomes descritivos, evitando ao máximo contrações.</span>\n",
                "\n",
                "<span style=\"color: rgb(36, 41, 47); font-family: -apple-system, BlinkMacSystemFont, &quot;Segoe UI&quot;, &quot;Noto Sans&quot;, Helvetica, Arial, sans-serif, &quot;Apple Color Emoji&quot;, &quot;Segoe UI Emoji&quot;; font-size: 16px; background-color: rgb(255, 255, 255);\"><b>View: </b>Utilizar <b>prefixo</b> <b>\"vw_\"</b> no nome da view a ser criada.</span>\n",
                "\n",
                "> > <span style=\"font-size: 16px; background-color: rgb(255, 255, 255);\"><b>Ex.:</b></span>\n",
                "> > \n",
                "> > <span style=\"font-size: 16px; background-color: rgb(255, 255, 255);\"><b>[schema].vw_[nome_da_view]</b></span>\n",
                "> > \n",
                "> > <span style=\"font-size: 16px; background-color: rgb(255, 255, 255);\"><b>contract.vw_contract_plan</b></span>\n",
                "\n",
                "### **Procedure:** <span style=\"background-color: rgb(255, 255, 255); color: rgb(36, 41, 47); font-family: -apple-system, BlinkMacSystemFont, &quot;Segoe UI&quot;, &quot;Noto Sans&quot;, Helvetica, Arial, sans-serif, &quot;Apple Color Emoji&quot;, &quot;Segoe UI Emoji&quot;; font-size: 16px;\">Utilizar</span> **prefixo** **\"fn\\_\"** <span style=\"background-color: rgb(255, 255, 255); color: rgb(36, 41, 47); font-family: -apple-system, BlinkMacSystemFont, &quot;Segoe UI&quot;, &quot;Noto Sans&quot;, Helvetica, Arial, sans-serif, &quot;Apple Color Emoji&quot;, &quot;Segoe UI Emoji&quot;; font-size: 16px;\">no nome da functions a ser criada.</span>\n",
                "\n",
                "> > <span style=\"font-size: 16px; background-color: rgb(255, 255, 255);\"><b>Ex.:</b></span>\n",
                "> > \n",
                "> > <span style=\"font-size: 16px; background-color: rgb(255, 255, 255);\"><b>[schema].pr_[nome_da_procedure]</b></span>\n",
                "> > \n",
                "> > <span style=\"font-size: 16px; background-color: rgb(255, 255, 255);\"><b>contract.pr_update_contract_plan</b></span>\n",
                "\n",
                "### **Function:** <span style=\"background-color: rgb(255, 255, 255); color: rgb(36, 41, 47); font-family: -apple-system, BlinkMacSystemFont, &quot;Segoe UI&quot;, &quot;Noto Sans&quot;, Helvetica, Arial, sans-serif, &quot;Apple Color Emoji&quot;, &quot;Segoe UI Emoji&quot;; font-size: 16px;\">Utilizar&nbsp;</span> **prefixo** **\"fn\\_\"** <span style=\"background-color: rgb(255, 255, 255); color: rgb(36, 41, 47); font-family: -apple-system, BlinkMacSystemFont, &quot;Segoe UI&quot;, &quot;Noto Sans&quot;, Helvetica, Arial, sans-serif, &quot;Apple Color Emoji&quot;, &quot;Segoe UI Emoji&quot;; font-size: 16px;\">no nome da functions a ser criada.</span>\n",
                "\n",
                "> > <span style=\"font-size: 16px; background-color: rgb(255, 255, 255);\"><b>Ex.:</b></span>\n",
                "> > \n",
                "> > <span style=\"font-size: 16px; background-color: rgb(255, 255, 255);\"><b>[schema].fn_[nome_da_function]</b></span>\n",
                "> > \n",
                "> > <span style=\"font-size: 16px; background-color: rgb(255, 255, 255);\"><b>contract.fn_get_contract_plan_active</b></span>\n",
                "\n",
                "### **Trigger:** <span style=\"color: rgb(36, 41, 47); font-family: -apple-system, BlinkMacSystemFont, &quot;Segoe UI&quot;, &quot;Noto Sans&quot;, Helvetica, Arial, sans-serif, &quot;Apple Color Emoji&quot;, &quot;Segoe UI Emoji&quot;; font-size: 16px; background-color: rgb(255, 255, 255);\">Utilizar&nbsp;</span> **prefixo** **\"tr\\_\"** <span style=\"color: rgb(36, 41, 47); font-family: -apple-system, BlinkMacSystemFont, &quot;Segoe UI&quot;, &quot;Noto Sans&quot;, Helvetica, Arial, sans-serif, &quot;Apple Color Emoji&quot;, &quot;Segoe UI Emoji&quot;; font-size: 16px; background-color: rgb(255, 255, 255);\">no nome da trigger a ser criada.</span>\n",
                "\n",
                "> > <span style=\"font-size: 16px; background-color: rgb(255, 255, 255);\"><b>Ex.:</b></span>\n",
                "> > \n",
                "> > <span style=\"font-size: 16px; background-color: rgb(255, 255, 255);\"><b>[schema].tr_[nome_da_function]</b></span>\n",
                "> > \n",
                "> > <span style=\"font-size: 16px; background-color: rgb(255, 255, 255);\"><b>contract.tr_aud_contract</b></span>"
            ],
            "metadata": {
                "azdata_cell_guid": "03be4c96-1003-4954-b5c3-13ffc024de5f",
                "language": ""
            },
            "attachments": {}
        },
        {
            "cell_type": "markdown",
            "source": [
                "# Colunas\n",
                "\n",
                "<span style=\"font-size: 16px;\">Os nomes de colunas devem estar em</span> <span style=\"font-size: 16px;\"><b>letras minúsculas</b></span> <span style=\"font-size: 16px;\">no&nbsp;<b>singular</b>&nbsp;e em<b>&nbsp;inglês.</b></span>\n",
                "\n",
                "<span style=\"color: rgb(36, 41, 47); font-family: -apple-system, BlinkMacSystemFont, &quot;Segoe UI&quot;, &quot;Noto Sans&quot;, Helvetica, Arial, sans-serif, &quot;Apple Color Emoji&quot;, &quot;Segoe UI Emoji&quot;; font-size: 16px; background-color: rgb(255, 255, 255);\">Sempre prefira nomes descritivos, evitando ao máximo contrações.</span>\n",
                "\n",
                "- <span style=\"color: rgb(36, 41, 47); font-family: -apple-system, BlinkMacSystemFont, &quot;Segoe UI&quot;, &quot;Noto Sans&quot;, Helvetica, Arial, sans-serif, &quot;Apple Color Emoji&quot;, &quot;Segoe UI Emoji&quot;; font-size: 16px; background-color: rgb(255, 255, 255);\">Exceção de abreviação comuns <b>PERMITIDOS</b> para <b>prefixo ou sufixo</b> de colunas são:</span>\n",
                "    \n",
                "    - <span style=\"font-size: 16px; background-color: rgb(255, 255, 255);\">description: alias \"ds\". Ex.: ds_contract ou contract_ds</span>\n",
                "    - <span style=\"font-size: 16px; background-color: rgb(255, 255, 255);\">name: alias \"nm\". Ex.: nm_contract</span>\n",
                "    - <span style=\"font-size: 16px; background-color: rgb(255, 255, 255);\">number/numeric: alias \"nr\" ou \"nb\". Ex.: nr_</span>\n",
                "- <span style=\"font-size: 16px; color: rgb(36, 41, 47); font-family: -apple-system, BlinkMacSystemFont, &quot;Segoe UI&quot;, &quot;Noto Sans&quot;, Helvetica, Arial, sans-serif, &quot;Apple Color Emoji&quot;, &quot;Segoe UI Emoji&quot;; background-color: rgb(255, 255, 255);\"><b>Primary keys columns:</b></span>  <span style=\"font-size: 16px; color: rgb(36, 41, 47); font-family: -apple-system, BlinkMacSystemFont, &quot;Segoe UI&quot;, &quot;Noto Sans&quot;, Helvetica, Arial, sans-serif, &quot;Apple Color Emoji&quot;, &quot;Segoe UI Emoji&quot;; background-color: rgb(255, 255, 255);\">campos de chave primária devem ser nomeados</span>  **id**<span style=\"font-size: 16px; color: rgb(36, 41, 47); font-family: -apple-system, BlinkMacSystemFont, &quot;Segoe UI&quot;, &quot;Noto Sans&quot;, Helvetica, Arial, sans-serif, &quot;Apple Color Emoji&quot;, &quot;Segoe UI Emoji&quot;; background-color: rgb(255, 255, 255);\">. É curto, simples e inequívoco.</span>\n",
                "    \n",
                "    - <span style=\"font-size: 16px; color: rgb(36, 41, 47); font-family: -apple-system, BlinkMacSystemFont, &quot;Segoe UI&quot;, &quot;Noto Sans&quot;, Helvetica, Arial, sans-serif, &quot;Apple Color Emoji&quot;, &quot;Segoe UI Emoji&quot;; background-color: rgb(255, 255, 255);\">Para campos Id chave primária devem ser criados na ordem abaixo quanto escolha do tipo de dados do melhor para o que deve ser evitado:</span>\n",
                "    \n",
                "    1. **Bigint**<span style=\"background-color: rgb(255, 255, 255); color: rgb(36, 41, 47); font-family: -apple-system, BlinkMacSystemFont, &quot;Segoe UI&quot;, &quot;Noto Sans&quot;, Helvetica, Arial, sans-serif, &quot;Apple Color Emoji&quot;, &quot;Segoe UI Emoji&quot;; font-size: 16px;\">: utilizar na maioria dos casos.</span>\n",
                "    2. **Integer**\n",
                "    3. **Uuid**<span style=\"font-size: 16px; background-color: rgb(255, 255, 255);\">: caso seja utilizado UUID (Universally Unique IDentifier ) com a função para geração de ids automáticos unicos.&nbsp; </span>        **(evitar pois tem impacto em performance e armazenamento)**\n",
                "    4. **Varchar(n)**\n",
                "- <span style=\"font-size: 16px; background-color: rgb(255, 255, 255);\"><b>Foreign keys columns:</b>&nbsp;os campos de chave estrangeira devem ser nomeados com prefixo [nome_tabela_origem]_id.</span>\n",
                "    \n",
                "    - <span style=\"font-size: 16px; background-color: rgb(255, 255, 255);\"><b>Ex</b>.:&nbsp;</span>       contract\\_id -\\> Id origem da tabela contract.id\n",
                "    - <span style=\"font-size: 16px; background-color: rgb(255, 255, 255);\">Por definição as foreign keys devem ter o mesmo tipo de dados da tabela de origem</span>\n",
                "- <span style=\"font-size: 16px;\"><b>Campos tipo string: </b>prefira utilizar o tipo <b>varchar</b> e o mesmo deve ser <b>especificado o tamanho máximo</b> na criação, caso não seja deve ser justificado a necessidade.</span>\n",
                "    \n",
                "    - <span style=\"font-size: 16px;\"><b>Ex.: varchar(n) -&gt; varchar(500)</b></span>\n",
                "    - <span style=\"font-size: 16px;\"><b>character varying(n):&nbsp;</b>é igual a varchar(n)</span>\n",
                "    - <span style=\"font-size: 16px;\"><b>character(n), char(n): </b>evitar a utilização de tipos&nbsp;pois são mais lentos e ocupam mais espaço</span>\n",
                "    - <span style=\"font-size: 16px;\"><b>text: </b>ilimitado, utilizar tipo <b>text</b>&nbsp;somente quando estritamente necessário armazenamento ilimitado de strings.</span>\n",
                "- <span style=\"font-size: 16px;\"><b>Campo tipo date/time: </b>utilizar conforme abaixo na ordem de preferencia.</span>\n",
                "    \n",
                "    1. **date**<span style=\"font-size: 16px;\">: </span> **importante** <span style=\"font-size: 16px;\">-&gt; armazena apenas ano, mes e dias </span> **SEM** <span style=\"font-size: 16px;\">hora (time). Utilizar o tipo abaixo <b>quando</b> </span> **NÃO** <span style=\"font-size: 16px;\">é necessário precisão de horas, minutos, segundos.</span>\n",
                "    2. \\*_**timestamp (alias: timestamp without time zone)**:_\\* <span style=\"font-size: 16px;\">contém date e time, inclui&nbsp; </span>      **SEM** <span style=\"font-size: 16px;\">time zone</span>\n",
                "    3. **timestamptz:** <span style=\"font-size: 16px;\">igual a \"timestamp with time zone\" contém date e time, inclui time zone</span>\n",
                "- <span style=\"font-size: 16px;\"><b>Campos tipo inteiros e decimais</b>:&nbsp; utilizar conforme abaixo.</span>\n",
                "    \n",
                "    - <span style=\"font-size: 16px;\"><b>smallint (alias: int2)</b>: range -32768 to +32767</span>\n",
                "    - <span style=\"font-size: 16px;\"><b>integer (alias: int, int4):</b>&nbsp; range -9223372036854775808 to +9223372036854775807</span>\n",
                "    - <span style=\"font-size: 16px;\"><b>bigint (alias: int8):</b>&nbsp;range -2147483648 to +2147483647</span>\n",
                "    - <span style=\"font-size: 16px;\"><b>numeric(p, s) (alias: decimal(p, s) ): </b>utilizar para valores decimais e monetários,<b> sempre especificar a casa decimal.</b></span>\n",
                "    - <span style=\"font-size: 16px;\">Evitar tipos <b>real</b> ou <b>double precision&nbsp;</b>pois são inexatos.</span>"
            ],
            "metadata": {
                "azdata_cell_guid": "54cfe4f6-b009-42d8-814f-96c763700855"
            },
            "attachments": {}
        },
        {
            "cell_type": "markdown",
            "source": [
                "# Convenção para Key Fields, Constraints e Indexes\n",
                "\n",
                "Ao criar um key field, index, sequence ou uma constraint deve ser seguido o padrão abaixo.\n",
                "\n",
                "Adicionar ao final de cada nome de objeto o sufixo abaixo conforme o tipo de objeto:\n",
                "\n",
                "**Sufixo por tipo de objeto:**\n",
                "\n",
                "- **primary key**: \\_pkey\n",
                "- **foreign key**:  \\_fkey\n",
                "- **index**:              \\_idx\n",
                "- **sequence**:      \\_seq  (criado automaticamento ao criar uma coluna identity ou serial)\n",
                "- **unique constraint:** \\_uq\n",
                "- **check constraint:**   \\_ck\n",
                "\n",
                "# Primary Keys\n",
                "\n",
                "Toda tabela deve possuir uma Primary Key e estar com  nome identificado conforme abaixo. \n",
                "\n",
                "Campo ID é obrigatório e não pode ser nulo, preferencialmente fazer parte da chave PK.\n",
                "\n",
                "Para primary keys favoreça o uso de **Int/BigInt** para **IDs** internos do banco de dados (PKs e FKs).\n",
                "\n",
                "Caso tenha necessidade de usar uma coluna do tipo UUID  criar como ID externo (por exemplo external\\_id). \n",
                "\n",
                "Essa forma hibrida possibilita que seu sistema continue tirando o melhor proveito do seu RDBMS ao mesmo tempo que possibilita ter um ID opaco (segurança).\n",
                "\n",
                "Essa abordagem não só minimiza o impacto no uso de UUID como também oferece vantagens interessantes:\n",
                "\n",
                "- permite ter um ID opaco para expor em APIs REST;\n",
                "- não precisamos necessariamente de um index na coluna;\n",
                "- podemos usar um index do tipo HASH em vez de BTREE (funciona melhor para queries de comparação por igualdade);\n",
                "- não “espalhamos” o UUID pelas FKs de outras tabelas;\n",
                "- ocupamos menos espaço em disco e memoria, afinal os indices param de referenciar UUIDs;\n",
                "- com menos dados melhora o workload em memoria;\n",
                "- podemos fazer tuning apropriado na coluna de acordo com nosso workload;\n",
                "- permitimos que o banco trabalhe melhor via PK/FK sequencial em JOINs, agregações e ordenações;\n",
                "- excelente para schemas existentes ou legados;\n",
                "\n",
                "  \n",
                "\n",
                "**Nome da primary key:** \\<tabela\\_origem\\>\\_pkey  \n",
                "\n",
                "**Exemplo:**"
            ],
            "metadata": {
                "azdata_cell_guid": "05e87591-10fe-4da3-9c50-a41fa0067168"
            },
            "attachments": {}
        },
        {
            "cell_type": "code",
            "source": [
                "/* Exemplo de criação de tabela com id no padrão de identity  */\n",
                "CREATE table if not exists contract.teste(\n",
                "\tid bigint NOT NULL GENERATED BY DEFAULT AS IDENTITY,\t\n",
                "\tCONSTRAINT teste_pk PRIMARY KEY (id)\n",
                ");"
            ],
            "metadata": {
                "azdata_cell_guid": "bc5d3a46-9a35-4d4a-b64a-295817c4dcd6",
                "language": "sql",
                "tags": []
            },
            "outputs": [],
            "execution_count": null
        },
        {
            "cell_type": "markdown",
            "source": [
                "# Sequence ou Serial\n",
                "\n",
                "Como alternativa ao identity pode-se ser utilizado sequence.\n",
                "\n",
                "**Importante**: Evitar o uso de sequence ou serial em primary key, utilizar identity, porém pode ser utilizado em outros campos caso necessário.\n",
                "\n",
                "**Nome da sequence:** \\<tabela\\_destino\\>\\_\\<coluna\\>\\_seq\n",
                "\n",
                "**Sobre serial:** \n",
                "\n",
                "Os tipos de dados **smallserial**, **serial** e **bigserial** não são tipos verdadeiros, mas apenas uma notação conveniente para criar colunas de identificador exclusivo (semelhante à propriedade AUTO\\_INCREMENT suportada por alguns outros bancos de dados). \n",
                "\n",
                "Na implementação atual, especificando:"
            ],
            "metadata": {
                "azdata_cell_guid": "0a35081e-b480-4ae2-88d7-982b370a2c4d"
            },
            "attachments": {}
        },
        {
            "cell_type": "code",
            "source": [
                "/* Serial:  (tem o mesmo comportamento de uma sequence. )*/\n",
                "CREATE TABLE schemaname.tablename (\n",
                "    colname SERIAL\n",
                ");\n",
                "\n",
                "/* Sequence: */\n",
                "CREATE SEQUENCE tablename_colname_seq AS integer;\n",
                "CREATE TABLE schemaname.tablename (\n",
                "    colname integer NOT NULL DEFAULT nextval('tablename_colname_seq')\n",
                ");\n",
                "ALTER SEQUENCE tablename_colname_seq OWNED BY schemaname.tablename.colname;"
            ],
            "metadata": {
                "azdata_cell_guid": "7221abb0-8402-4152-92cb-93a8f4a6b0c8",
                "language": "sql",
                "tags": []
            },
            "outputs": [],
            "execution_count": null
        },
        {
            "cell_type": "markdown",
            "source": [
                "# Foreign Keys\n",
                "\n",
                "Padrão de criação de foreign key devem estar com nome identificado conforme abaixo.\n",
                "\n",
                "Campos que terminam em \\<coluna\\>**\\_id** que não fazem parte da Primary Key, são uma **Foreign Key** e devem **possuir uma constraint criada** referenciamento a tabela de origem, exceto se for um id genérico que possui origem de várias tabelas.\n",
                "\n",
                "**Nome da foreign key:** \\<tabela de origem\\>\\_\\<tabela\\_destino\\_referenciada\\>\\_fkey\n",
                "\n",
                "**Nome da coluna foreign key:** \\<tabela de origem\\>\\_id\n",
                "\n",
                "**Exemplo:**"
            ],
            "metadata": {
                "azdata_cell_guid": "a946cd32-db44-4c4d-864d-8f613dde773c"
            },
            "attachments": {}
        },
        {
            "cell_type": "code",
            "source": [
                "/* Exemplo de criação de tabela com foreign key */\n",
                "CREATE table if not exists contract.teste(\n",
                "\tid bigint NOT NULL GENERATED BY DEFAULT AS IDENTITY,\t\n",
                "\tbank_account_id bigint null,\n",
                "\tCONSTRAINT teste_pk PRIMARY KEY (id)\n",
                ");\n",
                "-- contract.teste foreign key:\n",
                "ALTER TABLE contract.teste ADD CONSTRAINT teste_bank_account_fk FOREIGN KEY (bank_account_id) REFERENCES contract.bank_account(id);\n",
                ""
            ],
            "metadata": {
                "azdata_cell_guid": "5ab80f47-73b9-4572-b2d3-7a91ad9bf42d",
                "language": "sql"
            },
            "outputs": [],
            "execution_count": null
        },
        {
            "cell_type": "markdown",
            "source": [
                "# Indexes\n",
                "\n",
                "Padrão de criação de indexes devem estar com nome identificado conforme abaixo.\n",
                "\n",
                "**Sugestão do index ou index único (unique index):**   \n",
                "\n",
                "- \\<nome da tabela de origem\\>\\_\\<colunas\\>\\_idx\n",
                "- \\<nome da tabela de origem\\>\\_\\<descritivo\\>\\_idx\n",
                "- \\<nome da tabela de origem\\>\\_\\<descritivo\\>\\_\\<sequencial numerico\\>\\_idx"
            ],
            "metadata": {
                "azdata_cell_guid": "48412533-3927-408c-a3ee-348bc6e9b063"
            },
            "attachments": {}
        },
        {
            "cell_type": "code",
            "source": [
                "/* Create Unique Index Exemplo: */\n",
                "CREATE UNIQUE INDEX account_account_code_company_idx ON contract.account_account USING btree (code, company_id);\n",
                "\t/* Equivalente a: */\n",
                "\tCREATE UNIQUE INDEX account_account_code_company_idx ON contract.account_account (code, company_id);\n",
                "\n",
                "/* Create Index Exemplo: */\n",
                "CREATE INDEX account_account_name_idx ON contract.account_account USING btree (name);\n",
                "\t/* Equivalente a: */\n",
                "\tCREATE INDEX account_account_name_idx ON contract.account_account (name);\n",
                ""
            ],
            "metadata": {
                "azdata_cell_guid": "0da1b429-99e0-49c3-9033-699478b25109",
                "language": "sql",
                "tags": []
            },
            "outputs": [],
            "execution_count": null
        },
        {
            "cell_type": "markdown",
            "source": [
                "# Unique e Check Constraints\n",
                "\n",
                "**Check constraint** é o tipo de restrição mais genérico. Ele permite que você especifique que o valor em uma determinada coluna deve satisfazer\n",
                "\n",
                "**Nome da** **check** **constraint:**  \\<tabela de origem\\>\\_\\<columa ou descritivo\\>\\_ck\n",
                "\n",
                "**Unique Constraints** garantem que os dados contidos em uma coluna ou grupo de colunas sejam únicos entre todas as linhas da tabela\n",
                "\n",
                "**Obs.: A**dicionar uma restrição exclusiva criará automaticamente um index  B-tree exclusivo na coluna ou grupo de colunas listado na restrição\n",
                "\n",
                "**Nome da** **unique** **constraint :** \\<tabela de origem\\>\\_\\<columa ou descritivo\\>\\_uq"
            ],
            "metadata": {
                "azdata_cell_guid": "2be3ea7d-ee10-4221-8ace-fbce5fdec0f8"
            },
            "attachments": {}
        },
        {
            "cell_type": "code",
            "source": [
                "/* Exemplo de criação de constraint unique e do tipo check. */\n",
                "CREATE TABLE public.product (\n",
                "    id integer ,\n",
                "    code_product varchar(10),    \n",
                "    price numeric(19,2),\n",
                "\tCONSTRAINT product_code_product_uq\t\tUNIQUE (code_product),\n",
                "    CONSTRAINT product_valid_discount_ck\tCHECK (price > 0)\n",
                ");"
            ],
            "metadata": {
                "azdata_cell_guid": "057edb9e-e60f-4d9f-a9fd-9c3ec497e5cc",
                "language": "sql",
                "tags": []
            },
            "outputs": [],
            "execution_count": null
        },
        {
            "cell_type": "markdown",
            "source": [
                "# Owner dos objetos criados via script\n",
                "\n",
                "Para os objetos criados via scripts ou executados automaticamente via flyway devem sempre fazer parte do script de criação os  comandos abaixo de acordo com o tipo de objeto.\n",
                "\n",
                "  \n",
                "\n",
                "No postgresql é necessário alterar o owner do objeto criado pelo usuário para um role padrão criada pelo DBA, para que outros usuários consigam alterar este objeto posteriormente.\n",
                "\n",
                "  \n",
                "\n",
                "Role Padrão para ser atribuido como owner dos objetos criados: **rl\\_ddladmin**"
            ],
            "metadata": {
                "azdata_cell_guid": "f8941a6a-00ae-4518-b2db-1c2be06bd9da"
            },
            "attachments": {}
        },
        {
            "cell_type": "code",
            "source": [
                "/* Comando do tipo TABLE para alterar object OWNER  */\n",
                "\tALTER TABLE schemaname.tablename OWNER TO rl_ddladmin;\n",
                "\n",
                "/* Comando do tipo VIEW para alterar object OWNER  */\n",
                "\tALTER VIEW schemaname.viewname \t OWNER TO rl_ddladmin;\n",
                "\n",
                "/* Comando do tipo MATERIALIZED VIE para alterar object OWNER  */\n",
                "\tALTER MATERIALIZED VIEW schemaname.viewname \t OWNER TO rl_ddladmin;\n",
                "\n",
                "/* Comando do tipo PROCEDURE para alterar object OWNER  */\n",
                "\tALTER PROCEDURE schemaname.pr_procedurename  OWNER TO rl_ddladmin; \n",
                "\n",
                "/* Comando do tipo FUNCTION para alterar object OWNER  */\n",
                "\tALTER FUNCTION schemaname.fn_functionname OWNER TO rl_ddladmin; \n",
                "\n",
                "/* Comando do tipo EVENT para alterar object OWNER  */\n",
                "\tALTER EVENT TRIGGER schemaaneme.tr_name OWNER TO rl_ddladmin;\n",
                "\n",
                "/* Comando do tipo SCHEMA para alterar object OWNER  */\n",
                "\tALTER SCHEMA schemaname OWNER TO rl_ddladmin;  "
            ],
            "metadata": {
                "azdata_cell_guid": "ebf5b22b-ae8c-460f-830e-e2e82ee9f5a6",
                "language": "sql"
            },
            "outputs": [],
            "execution_count": null
        }
    ]
}